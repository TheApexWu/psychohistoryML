{
 "cells": [
  {
   "cell_type": "code",
   "execution_count": null,
   "id": "52b05fdc-ae45-4772-bf1d-012aff3dbd4d",
   "metadata": {},
   "outputs": [],
   "source": []
  }
 ],
 "metadata": {
  "kernelspec": {
   "display_name": "",
   "name": ""
  },
  "language_info": {
   "name": ""
  }
 },
 "nbformat": 4,
 "nbformat_minor": 5
}
